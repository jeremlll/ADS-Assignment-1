{
 "cells": [
  {
   "cell_type": "code",
   "execution_count": 1,
   "metadata": {},
   "outputs": [],
   "source": [
    "import geopandas as gpd\n",
    "\n",
    "# Load the shapefiles\n",
    "taxi_zones = gpd.read_file('../data/taxi_zones/taxi_zones.shp')\n",
    "precincts = gpd.read_file('../data/Police Precincts/geo_export_da8421e8-1e0e-441f-8db9-87a09ccc7b8b.shp')"
   ]
  },
  {
   "cell_type": "code",
   "execution_count": 2,
   "metadata": {},
   "outputs": [
    {
     "name": "stdout",
     "output_type": "stream",
     "text": [
      "EPSG:2263\n",
      "EPSG:4326\n"
     ]
    }
   ],
   "source": [
    "# Check the CRS of both shapefiles\n",
    "print(taxi_zones.crs)\n",
    "print(precincts.crs)\n",
    "\n",
    "taxi_zones = taxi_zones.to_crs(precincts.crs)"
   ]
  },
  {
   "cell_type": "code",
   "execution_count": 9,
   "metadata": {},
   "outputs": [
    {
     "name": "stdout",
     "output_type": "stream",
     "text": [
      "     LocationID  precinct\n",
      "0             1         0\n",
      "45           46         0\n",
      "103         103         0\n"
     ]
    },
    {
     "name": "stderr",
     "output_type": "stream",
     "text": [
      "/var/folders/dm/xmt0kc7d45bbjbmvfs9tpy1r0000gn/T/ipykernel_27466/2300947001.py:2: UserWarning: Geometry is in a geographic CRS. Results from 'centroid' are likely incorrect. Use 'GeoSeries.to_crs()' to re-project geometries to a projected CRS before this operation.\n",
      "\n",
      "  taxi_zones['centroid'] = taxi_zones.geometry.centroid\n"
     ]
    }
   ],
   "source": [
    "# Calculate the centroids of the taxi zones\n",
    "taxi_zones['centroid'] = taxi_zones.geometry.centroid\n",
    "\n",
    "# Create a GeoDataFrame for the centroids, including LocationID\n",
    "centroids = gpd.GeoDataFrame(taxi_zones[['LocationID', 'centroid']], geometry='centroid', crs=taxi_zones.crs)\n",
    "\n",
    "# Perform spatial join where each centroid is matched to a precinct\n",
    "taxi_to_precinct = gpd.sjoin(centroids, precincts, how=\"left\", predicate=\"within\")\n",
    "\n",
    "# Optionally, drop the centroid column and keep only relevant columns (e.g., LocationID and precinct)\n",
    "taxi_to_precinct = taxi_to_precinct[['LocationID', 'precinct']]  # Replace 'precinct_id' with the actual precinct column name\n",
    "# Fill NaN values with a placeholder value (e.g., 0) before conversion to int\n",
    "taxi_to_precinct['precinct'] = taxi_to_precinct['precinct'].fillna(0).astype(int)\n",
    "\n",
    "filtered_gdf = taxi_to_precinct[taxi_to_precinct['precinct'] == 0]\n",
    "print(filtered_gdf)\n"
   ]
  },
  {
   "cell_type": "code",
   "execution_count": 6,
   "metadata": {},
   "outputs": [],
   "source": [
    "# Save the resulting mapping to a new CSV file\n",
    "taxi_to_precinct.to_csv(\"../data/taxi_zone_precinct_mapping.csv\", index=False)"
   ]
  }
 ],
 "metadata": {
  "kernelspec": {
   "display_name": "base",
   "language": "python",
   "name": "python3"
  },
  "language_info": {
   "codemirror_mode": {
    "name": "ipython",
    "version": 3
   },
   "file_extension": ".py",
   "mimetype": "text/x-python",
   "name": "python",
   "nbconvert_exporter": "python",
   "pygments_lexer": "ipython3",
   "version": "3.11.7"
  },
  "orig_nbformat": 4
 },
 "nbformat": 4,
 "nbformat_minor": 2
}
